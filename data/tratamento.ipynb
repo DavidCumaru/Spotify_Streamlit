{
 "cells": [
  {
   "cell_type": "code",
   "execution_count": 1,
   "metadata": {},
   "outputs": [],
   "source": [
    "import pandas as pd"
   ]
  },
  {
   "cell_type": "code",
   "execution_count": 2,
   "metadata": {},
   "outputs": [
    {
     "data": {
      "text/html": [
       "<div>\n",
       "<style scoped>\n",
       "    .dataframe tbody tr th:only-of-type {\n",
       "        vertical-align: middle;\n",
       "    }\n",
       "\n",
       "    .dataframe tbody tr th {\n",
       "        vertical-align: top;\n",
       "    }\n",
       "\n",
       "    .dataframe thead th {\n",
       "        text-align: right;\n",
       "    }\n",
       "</style>\n",
       "<table border=\"1\" class=\"dataframe\">\n",
       "  <thead>\n",
       "    <tr style=\"text-align: right;\">\n",
       "      <th></th>\n",
       "      <th>Nome</th>\n",
       "      <th>Artista</th>\n",
       "      <th>Álbum</th>\n",
       "      <th>Duração</th>\n",
       "      <th>Popularidade</th>\n",
       "      <th>Gêneros</th>\n",
       "    </tr>\n",
       "  </thead>\n",
       "  <tbody>\n",
       "    <tr>\n",
       "      <th>0</th>\n",
       "      <td>My Sacrifice</td>\n",
       "      <td>Creed</td>\n",
       "      <td>Weathered</td>\n",
       "      <td>4:54</td>\n",
       "      <td>74</td>\n",
       "      <td>rock, post-grunge, nu metal, alternative metal</td>\n",
       "    </tr>\n",
       "    <tr>\n",
       "      <th>1</th>\n",
       "      <td>A Woman's Worth</td>\n",
       "      <td>Alicia Keys</td>\n",
       "      <td>Songs In A Minor (Expanded Edition)</td>\n",
       "      <td>5:03</td>\n",
       "      <td>0</td>\n",
       "      <td>neo soul, r&amp;b, pop</td>\n",
       "    </tr>\n",
       "    <tr>\n",
       "      <th>2</th>\n",
       "      <td>Wherever You Will Go</td>\n",
       "      <td>The Calling</td>\n",
       "      <td>Camino Palmero</td>\n",
       "      <td>3:28</td>\n",
       "      <td>74</td>\n",
       "      <td>pop rock, neo mellow</td>\n",
       "    </tr>\n",
       "    <tr>\n",
       "      <th>3</th>\n",
       "      <td>In the End</td>\n",
       "      <td>Linkin Park</td>\n",
       "      <td>Hybrid Theory (Bonus Edition)</td>\n",
       "      <td>3:36</td>\n",
       "      <td>88</td>\n",
       "      <td>rock, alternative metal, post-grunge, nu metal...</td>\n",
       "    </tr>\n",
       "    <tr>\n",
       "      <th>4</th>\n",
       "      <td>What About Us?</td>\n",
       "      <td>Brandy</td>\n",
       "      <td>Full Moon</td>\n",
       "      <td>4:10</td>\n",
       "      <td>36</td>\n",
       "      <td>urban contemporary, dance pop, hip pop, contem...</td>\n",
       "    </tr>\n",
       "  </tbody>\n",
       "</table>\n",
       "</div>"
      ],
      "text/plain": [
       "                   Nome      Artista                                Álbum  \\\n",
       "0          My Sacrifice        Creed                            Weathered   \n",
       "1       A Woman's Worth  Alicia Keys  Songs In A Minor (Expanded Edition)   \n",
       "2  Wherever You Will Go  The Calling                       Camino Palmero   \n",
       "3            In the End  Linkin Park        Hybrid Theory (Bonus Edition)   \n",
       "4        What About Us?       Brandy                            Full Moon   \n",
       "\n",
       "  Duração  Popularidade                                            Gêneros  \n",
       "0    4:54            74     rock, post-grunge, nu metal, alternative metal  \n",
       "1    5:03             0                                 neo soul, r&b, pop  \n",
       "2    3:28            74                               pop rock, neo mellow  \n",
       "3    3:36            88  rock, alternative metal, post-grunge, nu metal...  \n",
       "4    4:10            36  urban contemporary, dance pop, hip pop, contem...  "
      ]
     },
     "execution_count": 2,
     "metadata": {},
     "output_type": "execute_result"
    }
   ],
   "source": [
    "# Foi realizado um tratamento nos dados da feature 'gêneros' devido à presença de dados faltantes\n",
    "# Foi realizado um tratamento para remover duplicatas\n",
    "df = pd.read_csv('playlist_dados.csv')\n",
    "df.head()"
   ]
  },
  {
   "cell_type": "code",
   "execution_count": 3,
   "metadata": {},
   "outputs": [
    {
     "name": "stdout",
     "output_type": "stream",
     "text": [
      "<class 'pandas.core.frame.DataFrame'>\n",
      "RangeIndex: 3748 entries, 0 to 3747\n",
      "Data columns (total 6 columns):\n",
      " #   Column        Non-Null Count  Dtype \n",
      "---  ------        --------------  ----- \n",
      " 0   Nome          3748 non-null   object\n",
      " 1   Artista       3748 non-null   object\n",
      " 2   Álbum         3748 non-null   object\n",
      " 3   Duração       3748 non-null   object\n",
      " 4   Popularidade  3748 non-null   int64 \n",
      " 5   Gêneros       3748 non-null   object\n",
      "dtypes: int64(1), object(5)\n",
      "memory usage: 175.8+ KB\n"
     ]
    }
   ],
   "source": [
    "df.info()"
   ]
  },
  {
   "cell_type": "code",
   "execution_count": 3,
   "metadata": {},
   "outputs": [
    {
     "data": {
      "text/plain": [
       "(4031, 6)"
      ]
     },
     "execution_count": 3,
     "metadata": {},
     "output_type": "execute_result"
    }
   ],
   "source": [
    "df.shape"
   ]
  },
  {
   "cell_type": "code",
   "execution_count": 4,
   "metadata": {},
   "outputs": [
    {
     "data": {
      "text/plain": [
       "Nome              0\n",
       "Artista           0\n",
       "Álbum             0\n",
       "Duração           0\n",
       "Popularidade      0\n",
       "Gêneros         179\n",
       "dtype: int64"
      ]
     },
     "execution_count": 4,
     "metadata": {},
     "output_type": "execute_result"
    }
   ],
   "source": [
    "df.isnull().sum()"
   ]
  },
  {
   "cell_type": "code",
   "execution_count": 5,
   "metadata": {},
   "outputs": [
    {
     "data": {
      "text/plain": [
       "np.int64(106)"
      ]
     },
     "execution_count": 5,
     "metadata": {},
     "output_type": "execute_result"
    }
   ],
   "source": [
    "df.duplicated().sum()"
   ]
  },
  {
   "cell_type": "code",
   "execution_count": 6,
   "metadata": {},
   "outputs": [],
   "source": [
    "df.drop_duplicates(inplace=True)"
   ]
  },
  {
   "cell_type": "code",
   "execution_count": 7,
   "metadata": {},
   "outputs": [],
   "source": [
    "df.dropna(inplace=True)\n",
    "df.to_csv('../data/playlist_dados.csv', index=False)"
   ]
  }
 ],
 "metadata": {
  "kernelspec": {
   "display_name": "env",
   "language": "python",
   "name": "python3"
  },
  "language_info": {
   "codemirror_mode": {
    "name": "ipython",
    "version": 3
   },
   "file_extension": ".py",
   "mimetype": "text/x-python",
   "name": "python",
   "nbconvert_exporter": "python",
   "pygments_lexer": "ipython3",
   "version": "3.12.6"
  }
 },
 "nbformat": 4,
 "nbformat_minor": 2
}
